{
  "cells": [
    {
      "cell_type": "markdown",
      "metadata": {
        "id": "view-in-github",
        "colab_type": "text"
      },
      "source": [
        "<a href=\"https://colab.research.google.com/github/educarrascov/educarrascov/blob/main/dds_python_clase_1.ipynb\" target=\"_parent\"><img src=\"https://colab.research.google.com/assets/colab-badge.svg\" alt=\"Open In Colab\"/></a>"
      ]
    },
    {
      "cell_type": "markdown",
      "metadata": {
        "id": "MCLKxDgH63zR"
      },
      "source": [
        "<img src=\"https://datascience.uc.cl/images/workshop/python.png\" width=\"500\">\n",
        "\n",
        "Más información sobre nuestros programas en el siguiente [link](https://datascience.uc.cl/).\n",
        "\n",
        "## Clase 1: Base de Python\n",
        "\n",
        "### Contenidos de hoy:\n",
        "\n",
        "* [¿Qué es Python?](#queespython).\n",
        "* [Primer código en Python](#primercodigoenpython).\n",
        "* [Variables](#variables).\n",
        "* [Colecciones de datos](#coleccionesdedatos).\n",
        "* [Subconjuntos de datos](#subconjuntosdedatos).\n",
        "* [Métodos importantes para listas](#metodosimportantesparalistas).\n",
        "* [Funciones importantes para listas](#funcionesimportantesparalistas).\n",
        "* [Operadores](#operadores).\n",
        "* [Estructuras condicionales](#estructurascondicionales).\n",
        "* [Loops](#loops).\n",
        "* [Listas por comprensión](#listasporcomprension).\n",
        "* [Ejercicios de práctica](#ejerciciosdepractica)."
      ]
    },
    {
      "cell_type": "markdown",
      "metadata": {
        "id": "FJAW4O6f63zW"
      },
      "source": [
        "<a id=\"queespython\"></a>\n",
        "### ¿Qué es Python?"
      ]
    },
    {
      "cell_type": "markdown",
      "metadata": {
        "id": "ZCJfUCUN63zX"
      },
      "source": [
        "<img \n",
        "    src=\"https://dataismm.ai/wp-content/uploads/2019/04/python-transparent-background.png\" \n",
        "    alt=\"\"\n",
        "    style=\"width:500px;\">\n",
        "\n",
        "*Lanzado en 1989*. Última versión estable: 3.10.2 (14/01/2022)\n"
      ]
    },
    {
      "cell_type": "markdown",
      "metadata": {
        "id": "GWK005w_63zX"
      },
      "source": [
        "* Lenguaje de programación multiparadigma: programación funcional, orientada a objetos e imperativa.\n",
        "* Lenguaje de alto nivel.\n",
        "* Sencillo de aprender por su alta similitud con el lenguaje humano.\n",
        "* Lenguaje interpretado.\n",
        "* Utiliza identación.\n",
        "* De tipado fuerte y dinámico.\n",
        "* Gran comunidad debido a sus amplias posibilidades.\n",
        "* Facilita el trabajo con Inteligencia Artificial, Big Data, Machine Learning y Data Science.\n",
        "* Actualmente, aplicaciones como *Spotify* o *Netflix* se desarrollan bajo este lenguaje."
      ]
    },
    {
      "cell_type": "markdown",
      "metadata": {
        "id": "d1n7oUob63zY"
      },
      "source": [
        "<a id=\"primercodigoenpython\"></a>\n",
        "### Primer código en Python\n",
        "* Con la función `print` podemos mostrar un mensaje en pantalla."
      ]
    },
    {
      "cell_type": "code",
      "execution_count": null,
      "metadata": {
        "id": "3PHPkWzG63zY"
      },
      "outputs": [],
      "source": [
        "# Ejemplo: mostrar en pantalla el mensaje \"Hola mundo!\"\n"
      ]
    },
    {
      "cell_type": "code",
      "execution_count": null,
      "metadata": {
        "id": "VhaWxX2g63za"
      },
      "outputs": [],
      "source": [
        "# Ejemplo: Mostrar Zen de Python\n"
      ]
    },
    {
      "cell_type": "markdown",
      "metadata": {
        "id": "x30DCYGY63zb"
      },
      "source": [
        "* Podemos usar Python como una calculadora. \n",
        "* El orden de las operaciones se realizan acorde a las propiedades matemáticas."
      ]
    },
    {
      "cell_type": "code",
      "execution_count": null,
      "metadata": {
        "id": "AqaqdL7p63zb"
      },
      "outputs": [],
      "source": [
        "# Ejemplo de cálculo\n"
      ]
    },
    {
      "cell_type": "markdown",
      "metadata": {
        "id": "EybGQnnR63zc"
      },
      "source": [
        "<a id=\"variables\"></a>\n",
        "### Variables\n",
        "<img \n",
        "    src=\"https://elpythonista.com/wp-content/uploads/2020/11/Variables_En_Python-1-768x432.jpg\" \n",
        "    alt=\"\"\n",
        "    style=\"width:500px;\">"
      ]
    },
    {
      "cell_type": "markdown",
      "metadata": {
        "id": "dshmIlmA63zd"
      },
      "source": [
        "* Nos permiten guardar distintos tipos de objetos en la memoria para volver a ser reutilizados.\n",
        "* Algunos tipos de variables habituales son: `float`, `int`, `str` y `bool`.\n",
        "* Comprobamos el tipo de variable con la función `type`.\n",
        "* Veamos algunos ejemplos:"
      ]
    },
    {
      "cell_type": "code",
      "execution_count": null,
      "metadata": {
        "id": "K3_h_QEN63zd"
      },
      "outputs": [],
      "source": [
        "# Ejemplo 1: Calcular el dinero a repartir si en total hay 50 trabajadores, \n",
        "# dos de ellos reciben el doble de $17,650 \n",
        "# y el resto recibe $30,000 con una bonificación adicional del 5%\n"
      ]
    },
    {
      "cell_type": "code",
      "execution_count": null,
      "metadata": {
        "id": "3-Q67IQF63ze"
      },
      "outputs": [],
      "source": [
        "# Comprobemos los tipos de variable resultantes\n"
      ]
    },
    {
      "cell_type": "code",
      "execution_count": null,
      "metadata": {
        "id": "LAEZRQPq63ze"
      },
      "outputs": [],
      "source": [
        "# Ejemplo 2: Crear correo con su nombre, \n",
        "# debe estar compuesto por las dos primeras letras de su nombre y apellido más el número 2022 \n",
        "# y ser de dominio @datascience.cl\n"
      ]
    },
    {
      "cell_type": "code",
      "execution_count": null,
      "metadata": {
        "id": "qYvYfvit63zf"
      },
      "outputs": [],
      "source": [
        "## Comprobemos los tipos\n"
      ]
    },
    {
      "cell_type": "markdown",
      "metadata": {
        "id": "mPr5t3Ow63zf"
      },
      "source": [
        "<a id=\"coleccionesdedatos\"></a>\n",
        "### Colecciones de datos\n",
        "\n",
        "* Se pueden definir como un conjunto de objetos (o estructura de datos) dentro de una variable.\n",
        "* Entre los que más destacan: `listas`, `tuplas` y `diccionarios`.\n",
        "* `Listas`: Contienen un set de valores que son guardados de forma secuencial. Es mutable, es decir, se pueden agregar, quitar o modificar elementos dentro de este.\n",
        "* `Tuplas`: Estas no son mutables, pero tienen la ventaja de usar menos memoria y ser más rápidas.\n",
        "* `Diccionarios`: Estos tienen la ventaja de poder identificar cada elementos a través de una `llave o key`."
      ]
    },
    {
      "cell_type": "code",
      "execution_count": null,
      "metadata": {
        "id": "8EYygrTz63zf"
      },
      "outputs": [],
      "source": [
        "# Ejemplo de lista\n",
        "\n",
        "\n",
        "# Ejemplo de tupla\n",
        "\n",
        "\n",
        "# Ejemplo de diccionario\n",
        "\n",
        "\n"
      ]
    },
    {
      "cell_type": "markdown",
      "metadata": {
        "id": "3YcH6mxC63zg"
      },
      "source": [
        "* También podemos almacenar objetos de distinto tipo:"
      ]
    },
    {
      "cell_type": "code",
      "execution_count": null,
      "metadata": {
        "id": "qnPcROgp63zg"
      },
      "outputs": [],
      "source": [
        "# Lista con objetos de distinto tipo\n"
      ]
    },
    {
      "cell_type": "markdown",
      "metadata": {
        "id": "fk7H9Clb63zg"
      },
      "source": [
        "<a id=\"subconjuntosdedatos\"></a>\n",
        "### Subconjuntos de datos\n",
        "<img src=\"https://cdn.programiz.com/sites/tutorial2program/files/python-list-index.png\" width=\"500px\">"
      ]
    },
    {
      "cell_type": "markdown",
      "metadata": {
        "id": "WQQ3wNPd63zg"
      },
      "source": [
        "* Frecuentemente necesitamos trabajar con subconjuntos de datos.\n",
        "* Se realiza de distintas formas, dependiendo del tipo de objeto.\n",
        "* Para listas y tuplas, lo hacemos de forma numérica (*0-based indexing*). Además, podemos seleccionar más de un objeto.\n",
        "* Para `strings`, es de forma idéntica que las listas.\n",
        "* Para diccionarios, usamos el nombre de la `llave`."
      ]
    },
    {
      "cell_type": "code",
      "execution_count": null,
      "metadata": {
        "id": "arXhrCJr63zg"
      },
      "outputs": [],
      "source": [
        "lista1 = [\"Dulce\", \"Salado\", \"Amargo\", \"Ácido\", \"Neutro\"]\n",
        "#            0         1         2        3        4\n",
        "diccionario1 = {\"nombre\": \"Alexis Sánchez\", \"edad\": 33, \"club\": \"Inter\"}"
      ]
    },
    {
      "cell_type": "code",
      "execution_count": null,
      "metadata": {
        "id": "r-cCNTV563zh"
      },
      "outputs": [],
      "source": [
        "# Ejemplo 1: Seleccionar solo un objeto (indexing).\n"
      ]
    },
    {
      "cell_type": "markdown",
      "metadata": {
        "id": "sl8cYkqH63zh"
      },
      "source": [
        "* Tambien podemos seleccionar mutilples objetos (*slicing*).\n",
        "* Para ello usamos `inicio:fin`. Sin embargo, el ultimo elemento del *slicing* no es inclusivo."
      ]
    },
    {
      "cell_type": "code",
      "execution_count": null,
      "metadata": {
        "id": "pfXkmH0063zh"
      },
      "outputs": [],
      "source": [
        "# Ejemplo 2: Selección multiple de objetos.\n"
      ]
    },
    {
      "cell_type": "markdown",
      "metadata": {
        "id": "5tn_ovUp63zi"
      },
      "source": [
        "<a id=\"metodosimportantesparalistas\"></a>\n",
        "### Métodos importantes para listas\n",
        "\n",
        "* `append` : Agregar elemento al final.\n",
        "* `pop`    : Retorna y elimina el objecto ubicado en el índice indicado.\n",
        "* `remove` : Se usa cuando se conoce el nombre del elemento pero no su posición.\n",
        "* `reverse`: Cambia dirección en que se encuetran ubicacos los elementos de una lista.\n",
        "* `sort`   : Por defecto, ordena elementos de menor a mayor.\n",
        "* `index`: Busca un elemento dentro de una lista y entrega la posición.\n",
        "* `join`: Une los elementos de una lista usando un separador.\n",
        "\n",
        "<a id=\"funcionesimportantesparalistas\"></a>\n",
        "### Funciones importantes para listas.\n",
        "\n",
        "* `len`      : Indica tamaño de lista.\n",
        "* `min`      : Mínimo valor dentro de lista.\n",
        "* `max`      : Máximo valor dentro de lista.\n",
        "* `sum`      : Suma elementos dentro de lista.\n",
        "* `zip`      : concatena listas en un objeto iterable, luego podemos usar la función `list` para acceder al resultado.\n",
        "* `enumerate`: Crea un containter donde cada posición esta compuesta por una tupla conteniendo el índice y elementos de una lista. Podemos usar la función `list` para acceder al resultado"
      ]
    },
    {
      "cell_type": "code",
      "execution_count": null,
      "metadata": {
        "id": "bOWv0SOK63zi"
      },
      "outputs": [],
      "source": [
        "precios = [1000, 2000, 1500, 300, 600, 500, 5000]\n",
        "nombres = [\"Esteban\", \"Sebastián\", \"Ana\", \"María\", \"Victoria\", \"Francisco\", \"Carlos\"]"
      ]
    },
    {
      "cell_type": "code",
      "execution_count": null,
      "metadata": {
        "id": "oK8VQkii63zi"
      },
      "outputs": [],
      "source": [
        "# Ejemplos de funciones y métodos\n",
        "\n",
        "# METODOS:\n",
        "# a precios agregarle al final el valor 3000\n"
      ]
    },
    {
      "cell_type": "code",
      "execution_count": null,
      "metadata": {
        "id": "JnGIBdHy63zi"
      },
      "outputs": [],
      "source": [
        "# FUNCIONES:\n",
        "# tamaño de precios:\n",
        "\n",
        "# mínimo de precios\n"
      ]
    },
    {
      "cell_type": "code",
      "execution_count": null,
      "metadata": {
        "id": "kKQjA8Y163zi"
      },
      "outputs": [],
      "source": [
        "# zip: Combinar elementos entre dos listas, uno a uno.\n"
      ]
    },
    {
      "cell_type": "markdown",
      "metadata": {
        "id": "81BS8J2A63zj"
      },
      "source": [
        "<a id=\"operadores\"></a>\n",
        "### Operadores\n",
        "* **Operadores aritméticos**  : Involucran operaciones matemáticas. Se encuentran `+`, `-`, `*`, `/`, `**` (potencia), `//` (división entera), `%` (resto de la división o módulo).\n",
        "* **Operadores comparativos** : Estas expresiones comparan dos valores y evaluan si son `True` o `False`. Estos son `<`,   `>`,  `<=`, `>=`, `==` (igual a), `!=` (distinto a), `is`.\n",
        "* **Operadores lógicos**      : Estos operan entre elementos que son del tipo booleano (`True/False`). Encontramos a `or`, `and`, `not`.\n",
        "* **Operadores de asignación**: Estos asignan un valor a una variable u operador. Están `=`, `+=`, `-=`, `*=`, `/=`, entre otros.\n",
        "* **Operadores de membresía** : Comprueban si un valor en particular se encuentran en una colección (como `listas` o `tuplas`). Son `in` y `not in`."
      ]
    },
    {
      "cell_type": "code",
      "execution_count": null,
      "metadata": {
        "id": "YII7ISaB63zj"
      },
      "outputs": [],
      "source": [
        "# Ejemplos de operadores\n"
      ]
    },
    {
      "cell_type": "code",
      "execution_count": null,
      "metadata": {
        "id": "ISG2lom663zj"
      },
      "outputs": [],
      "source": [
        "# Asignaciones\n"
      ]
    },
    {
      "cell_type": "code",
      "execution_count": null,
      "metadata": {
        "id": "Q-rBBL-z63zk"
      },
      "outputs": [],
      "source": [
        "# Membresía\n"
      ]
    },
    {
      "cell_type": "markdown",
      "metadata": {
        "id": "e8nGjX3z63zk"
      },
      "source": [
        "<a id=\"estructurascondicionales\"></a>\n",
        "### Estructuras condicionales\n",
        "<img src=\"https://tcl.azureedge.net/p/images_ar/art_img/9b97d992-4ea9-4665-8da4-e8af86c502ff.jpg\" width=\"500px\">\n",
        "\n",
        "* Comprueba si una condición es verdadera o falsa, y en base a eso se lleva a cabo una acción.\n",
        "* Se lleva a cabo mediante las sentencias `if, elif y else`.\n",
        "* La sentencia `elif` (else if), comprueba una condición, si la condición de la sentencia `if` no se cumple. Podemos acumular tantas sentencias `elif` como necesitemos.\n",
        "* La sentencia `else` , la usamos cuando necesitamos ejecutar un bloque de código cuando ninguna de las condiciones anteriores se han cumplido.\n"
      ]
    },
    {
      "cell_type": "code",
      "execution_count": null,
      "metadata": {
        "id": "d1c_cVh963zk"
      },
      "outputs": [],
      "source": [
        "# Ejemplo 1: sentencia if-elif-else\n",
        "asistencia = 500"
      ]
    },
    {
      "cell_type": "code",
      "execution_count": null,
      "metadata": {
        "id": "maxLGIZL63zk"
      },
      "outputs": [],
      "source": [
        "# Ejemplo 2: Dadas las notas de un curso, \n",
        "# el profesor decide añadir una bonificación de dos décimas \n",
        "# si el promedio de las notas es mayor a 5. \n",
        "# La bonificación será de 5 décimas si el promedio es mayor o igual a 6.\n",
        "# Decida si el curso frecibirá la bonificación y \n",
        "# calcule el nuevo promedio incluyendo las décimas. \n",
        "notas = [5.5, 6.8, 6.5, 6.5, 6.0, 5.9, 7.0, 6.5, 3.6, 6.0, 6.2]\n",
        "\n"
      ]
    },
    {
      "cell_type": "markdown",
      "metadata": {
        "id": "eDsTwq3E63zk"
      },
      "source": [
        "<a id=\"loops\"></a>\n",
        "### Loops\n",
        "\n",
        "* Son usados para evaluar una porción de códido reiteradamente. Una sola ejecución de un bloque de código es llamada `iteración` y las estructuras iterativas van a través de múltiples rondas de iteraciones. En Python, las estructuras iterativas son `while` y `for`.\n",
        "* `for`: Es usado para ejecutar un bloque de código una cantidad predefinida de veces. Puede ser usadado con cualquier tipo de objeto iterable (como `listas` o `tuplas`). También es usado comúnmente con la función `range`.\n",
        "* `while`: Es usando cuando queremos ejecutar una instrucción en particular mientras una condición es `True`."
      ]
    },
    {
      "cell_type": "code",
      "execution_count": null,
      "metadata": {
        "id": "IKQ7fjgG63zl"
      },
      "outputs": [],
      "source": [
        "discurso = \"BUENAS NOCHES! GRACIAS POR ASISTIR A ESTOS WORKSHOPS, estamos muy contentos de recibirles.\"\n",
        "# Ejemplo for: separe en espacios y convierta a minúsculas el discurso, elimine caracteres no deseados.\n",
        "# Esta limpieza es bastante común en NLP (análisis y procesamiento  de textos)."
      ]
    },
    {
      "cell_type": "code",
      "execution_count": null,
      "metadata": {
        "id": "pkmNqnkd63zl"
      },
      "outputs": [],
      "source": [
        "# Ejemplo while;\n",
        "# Una aseguradora automotriz ha facilitado datos sobre \n",
        "# lo que les cuestan los accidentes de los vehículos asegurados en un día determinado.\n",
        "# Si la empresa dispone de $6,000,000 diarios, ¿cúantos accidentes aproximadamente \n",
        "# puede pagar sin generar pérdidas?\n",
        "costos_accidentes = [256954, 345935, 789987, 623545, 99123,\n",
        "                     123400, 523432, 345675, 754634, 237976,\n",
        "                     1135655, 569835, 629845, 293261, 748232]\n"
      ]
    },
    {
      "cell_type": "markdown",
      "metadata": {
        "id": "_KljApGh63zl"
      },
      "source": [
        "<a id=\"listasporcomprension\"></a>\n",
        "### Listas por comprensión\n",
        "Es una forma de crear listas a través de objetos iterables mucho más elegante y contraida respecto a la sentencia `for`. Además, se pueden añadir estructuras `if-else`."
      ]
    },
    {
      "cell_type": "code",
      "execution_count": null,
      "metadata": {
        "id": "a31ckYwS63zl"
      },
      "outputs": [],
      "source": [
        "valores = [546, 964, 1135, 356, 653, 742, 899, 2000, 599]\n",
        "\n",
        "# Ejemplo 1: Decida cual de los siguientes valores es el más cercano a 700\n"
      ]
    },
    {
      "cell_type": "code",
      "execution_count": null,
      "metadata": {
        "id": "bk_ITUzV63zl"
      },
      "outputs": [],
      "source": [
        "# Ejemplo 2: Seleccione los valores superiores a mil, además resteles mil.\n"
      ]
    },
    {
      "cell_type": "markdown",
      "metadata": {
        "id": "56uMzMr963zl"
      },
      "source": [
        "<a id=\"ejerciciosdepractica\"></a>\n",
        "### Ejercicios de práctica"
      ]
    },
    {
      "cell_type": "code",
      "execution_count": null,
      "metadata": {
        "id": "vMw4S2Pf63zm"
      },
      "outputs": [],
      "source": [
        "datos = [\n",
        "    {\"cancion\": \"Yonaguni\", \"artista\": \"Bad Bunny\", \"reproducciones\": \"25,030,128\"},\n",
        "    {\"cancion\": \"TE DESEO LO MEJOR\", \"artista\": \"Bad Bunny\", \"reproducciones\": \"6,204,228\"},\n",
        "    {\"cancion\": \"Jeans\", \"artista\": \"Justin Quiles\", \"reproducciones\": \"5,145,966\"},\n",
        "    {\"cancion\": \"Ponte Pa' Mi\", \"artista\": \"Justin Quiles\", \"reproducciones\": \"5,082,870\"},\n",
        "]"
      ]
    },
    {
      "cell_type": "markdown",
      "metadata": {
        "id": "xVf2gKn263zm"
      },
      "source": [
        "Usando los datos guardados en la variable `datos`, responda las siguientes preguntas:\n",
        "1. Indique el nombre de la canción mas largo."
      ]
    },
    {
      "cell_type": "code",
      "execution_count": null,
      "metadata": {
        "id": "jTuqe5bk63zm"
      },
      "outputs": [],
      "source": [
        "# Responda aquí:"
      ]
    },
    {
      "cell_type": "markdown",
      "metadata": {
        "id": "Pn-OVoQ_63zm"
      },
      "source": [
        "2. Escriba las reproducciones en el formato correcto. Verifique."
      ]
    },
    {
      "cell_type": "code",
      "execution_count": null,
      "metadata": {
        "id": "I4t46-OT63zm"
      },
      "outputs": [],
      "source": [
        "# Responda aquí:"
      ]
    },
    {
      "cell_type": "markdown",
      "metadata": {
        "id": "AveMQvHI63zm"
      },
      "source": [
        "3. ¿Cuántas reproducciones tiene cada artista presente en los datos?"
      ]
    },
    {
      "cell_type": "code",
      "execution_count": null,
      "metadata": {
        "id": "CXePxZXN63zm"
      },
      "outputs": [],
      "source": [
        "# Responda aquí:"
      ]
    }
  ],
  "metadata": {
    "colab": {
      "name": "dds-python_clase-1.ipynb",
      "provenance": [],
      "include_colab_link": true
    },
    "interpreter": {
      "hash": "bc909b8a33c92e61f9d7229b2934b0ede9cfb342a1f2343fcce2bf0e4b4689cd"
    },
    "kernelspec": {
      "display_name": "Python 3.9.7 ('default')",
      "language": "python",
      "name": "python3"
    },
    "language_info": {
      "codemirror_mode": {
        "name": "ipython",
        "version": 3
      },
      "file_extension": ".py",
      "mimetype": "text/x-python",
      "name": "python",
      "nbconvert_exporter": "python",
      "pygments_lexer": "ipython3",
      "version": "3.9.7"
    },
    "orig_nbformat": 4
  },
  "nbformat": 4,
  "nbformat_minor": 0
}