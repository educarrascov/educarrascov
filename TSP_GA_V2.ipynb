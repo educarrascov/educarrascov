{
  "nbformat": 4,
  "nbformat_minor": 0,
  "metadata": {
    "colab": {
      "name": "TSP-GA-V2.ipynb",
      "provenance": [],
      "collapsed_sections": [],
      "include_colab_link": true
    },
    "kernelspec": {
      "name": "python3",
      "display_name": "Python 3"
    }
  },
  "cells": [
    {
      "cell_type": "markdown",
      "metadata": {
        "id": "view-in-github",
        "colab_type": "text"
      },
      "source": [
        "<a href=\"https://colab.research.google.com/github/educarrascov/educarrascov/blob/main/TSP_GA_V2.ipynb\" target=\"_parent\"><img src=\"https://colab.research.google.com/assets/colab-badge.svg\" alt=\"Open In Colab\"/></a>"
      ]
    },
    {
      "cell_type": "markdown",
      "metadata": {
        "id": "0RBDKeJSSLY8"
      },
      "source": [
        "# **Algoritmo genético para un problema TSP**\n",
        "\n",
        "Código tomado del siguientes repositorio de github [TSP.](https://github.com/fermenreq/TSP-VRP-GENETICS-ALGORITHM)"
      ]
    },
    {
      "cell_type": "code",
      "metadata": {
        "id": "fFfqbHD0ZrVZ"
      },
      "source": [
        "import tspga"
      ],
      "execution_count": null,
      "outputs": []
    },
    {
      "cell_type": "code",
      "metadata": {
        "id": "Ysym-XzhTGMO"
      },
      "source": [
        "#datos del problema\n",
        "cities = {0:'Almeria',1:'Cadiz',2:'Cordoba',3:'Granada',4:'Huelva',5:'Jaen',6:'Malaga',7:'Sevilla'}\n",
        "#Distance between each pair of cities\n",
        "\n",
        "w0=[999,454,317,165,528,222,223,410]\n",
        "w1=[453,999,253,291,210,325,234,121]\n",
        "w2=[317,252,999,202,226,108,158,140]\n",
        "w3=[165,292,201,999,344,94,124,248]\n",
        "w4=[508,210,235,346,999,336,303,94]\n",
        "w5=[222,325,116,93,340,999,182,247]\n",
        "w6=[223,235,158,125,302,185,999,206]\n",
        "w7=[410,121,141,248,93,242,199,999]\n",
        "\n",
        "distances = {0:w0,1:w1,2:w2,3:w3,4:w4,5:w5,6:w6,7:w7}"
      ],
      "execution_count": null,
      "outputs": []
    },
    {
      "cell_type": "code",
      "metadata": {
        "id": "Hv6z2APjsoZx",
        "colab": {
          "base_uri": "https://localhost:8080/",
          "height": 524
        },
        "outputId": "53fae793-cea2-4461-b843-a4724a6d8d82"
      },
      "source": [
        "#ejecutar procedimiento\n",
        "TSP_PROBLEM = tspga.Problem_Genetic(list(range(len(cities))),len(cities), lambda x : tspga.decodeTSP(x,cities), lambda y: tspga.fitnessTSP(y,distances))\n",
        "genetic_problem_instances = 10\n",
        "print(\"EXECUTING \", genetic_problem_instances, \" INSTANCES \\n\")\n",
        "tspga.TSP(TSP_PROBLEM,genetic_problem_instances)"
      ],
      "execution_count": null,
      "outputs": [
        {
          "output_type": "stream",
          "text": [
            "EXECUTING  10  INSTANCES \n",
            "\n",
            "---------------------------------------------------------Executing FIRST PART: TSP --------------------------------------------------------- \n",
            "\n",
            "Chromosome:  [0, 3, 5, 2, 4, 7, 1, 6]\n",
            "Solution: (['Almeria', 'Granada', 'Jaen', 'Cordoba', 'Huelva', 'Sevilla', 'Cadiz', 'Malaga'], 1273)\n",
            "Chromosome:  [1, 4, 7, 2, 5, 3, 0, 6]\n",
            "Solution: (['Cadiz', 'Huelva', 'Sevilla', 'Cordoba', 'Jaen', 'Granada', 'Almeria', 'Malaga'], 1269)\n",
            "Chromosome:  [5, 2, 4, 7, 1, 6, 0, 3]\n",
            "Solution: (['Jaen', 'Cordoba', 'Huelva', 'Sevilla', 'Cadiz', 'Malaga', 'Almeria', 'Granada'], 1273)\n",
            "Chromosome:  [6, 1, 4, 7, 2, 5, 3, 0]\n",
            "Solution: (['Malaga', 'Cadiz', 'Huelva', 'Sevilla', 'Cordoba', 'Jaen', 'Granada', 'Almeria'], 1269)\n",
            "Chromosome:  [2, 5, 3, 0, 6, 1, 4, 7]\n",
            "Solution: (['Cordoba', 'Jaen', 'Granada', 'Almeria', 'Malaga', 'Cadiz', 'Huelva', 'Sevilla'], 1269)\n",
            "Chromosome:  [1, 4, 7, 2, 5, 0, 3, 6]\n",
            "Solution: (['Cadiz', 'Huelva', 'Sevilla', 'Cordoba', 'Jaen', 'Almeria', 'Granada', 'Malaga'], 1299)\n",
            "Chromosome:  [6, 0, 3, 5, 2, 4, 1, 7]\n",
            "Solution: (['Malaga', 'Almeria', 'Granada', 'Jaen', 'Cordoba', 'Huelva', 'Cadiz', 'Sevilla'], 1354)\n",
            "Chromosome:  [0, 6, 1, 4, 7, 2, 5, 3]\n",
            "Solution: (['Almeria', 'Malaga', 'Cadiz', 'Huelva', 'Sevilla', 'Cordoba', 'Jaen', 'Granada'], 1269)\n",
            "Chromosome:  [1, 2, 5, 3, 0, 6, 7, 4]\n",
            "Solution: (['Cadiz', 'Cordoba', 'Jaen', 'Granada', 'Almeria', 'Malaga', 'Sevilla', 'Huelva'], 1351)\n",
            "Chromosome:  [1, 4, 7, 2, 5, 3, 0, 6]\n",
            "Solution: (['Cadiz', 'Huelva', 'Sevilla', 'Cordoba', 'Jaen', 'Granada', 'Almeria', 'Malaga'], 1269)\n",
            "Chromosome:  [6, 1, 4, 7, 2, 5, 3, 0]\n",
            "Solution: (['Malaga', 'Cadiz', 'Huelva', 'Sevilla', 'Cordoba', 'Jaen', 'Granada', 'Almeria'], 1269)\n",
            "\n",
            "Total time:  4.133027076721191  secs.\n",
            "\n"
          ],
          "name": "stdout"
        }
      ]
    },
    {
      "cell_type": "markdown",
      "metadata": {
        "id": "VM0NGMZeemqp"
      },
      "source": [
        "##**Ejemplo de aplicación**"
      ]
    },
    {
      "cell_type": "code",
      "metadata": {
        "id": "lpvI6ukzekdT"
      },
      "source": [
        "#leer datos\n",
        "import pandas as pd\n",
        "distances  = pd.read_excel(\"colombia.xlsx\",sheet_name=\"colombia\")\n",
        "cities  = pd.read_excel(\"colombia.xlsx\",sheet_name=\"ciudades\",header=None)\n",
        "#transformar datos\n",
        "distances =  distances.values.tolist()\n",
        "cities = cities.values.tolist()\n",
        "#organizar datos\n",
        "citiess = {}\n",
        "for i in range(0,len(cities)):\n",
        "  citiess[i] =  cities[i]\n",
        "cities = citiess\n",
        "distancess = {}\n",
        "for i in range(0,len(distances)):\n",
        "  distancess[i] =  distances[i]\n",
        "distances = distancess"
      ],
      "execution_count": null,
      "outputs": []
    },
    {
      "cell_type": "code",
      "metadata": {
        "id": "dbyJhw5OfOGv",
        "colab": {
          "base_uri": "https://localhost:8080/",
          "height": 524
        },
        "outputId": "9ba7746e-f402-4827-b968-0f62bc133a76"
      },
      "source": [
        "#ejecutar procedimiento\n",
        "TSP_PROBLEM = tspga.Problem_Genetic(list(range(len(cities))),len(cities), lambda x : tspga.decodeTSP(x,cities), lambda y: tspga.fitnessTSP(y,distances))\n",
        "genetic_problem_instances = 10\n",
        "print(\"EXECUTING \", genetic_problem_instances, \" INSTANCES \\n\")\n",
        "tspga.TSP(TSP_PROBLEM,genetic_problem_instances)"
      ],
      "execution_count": null,
      "outputs": [
        {
          "output_type": "stream",
          "text": [
            "EXECUTING  10  INSTANCES \n",
            "\n",
            "---------------------------------------------------------Executing FIRST PART: TSP --------------------------------------------------------- \n",
            "\n",
            "Chromosome:  [0, 9, 8, 13, 14, 5, 19, 12, 26, 2, 23, 15, 4, 21, 3, 7, 24, 22, 18, 20, 6, 1, 10, 16, 25, 11, 17]\n",
            "Solution: ([['Armenia'], ['Ibague'], ['Florencia'], ['Neiva'], ['Pasto'], ['Cali'], ['Sincelejo'], ['Monteria'], ['Yopal'], ['Bogota'], ['Villavo'], ['Pereira'], ['B/ventura'], ['Tunja'], ['B/manga'], ['Cucuta'], ['Arauca'], ['V/dupar'], ['Riohacha'], ['Santa\\nMarta'], ['Cartagena'], ['B/quilla'], ['Manizales'], ['Popayan'], ['Mocoa'], ['Medellin'], ['Quibdo']], 11458)\n",
            "Chromosome:  [2, 0, 11, 17, 4, 5, 16, 8, 7, 24, 21, 9, 15, 10, 26, 23, 3, 22, 20, 1, 18, 6, 19, 12, 14, 25, 13]\n",
            "Solution: ([['Bogota'], ['Armenia'], ['Medellin'], ['Quibdo'], ['B/ventura'], ['Cali'], ['Popayan'], ['Florencia'], ['Cucuta'], ['Arauca'], ['Tunja'], ['Ibague'], ['Pereira'], ['Manizales'], ['Yopal'], ['Villavo'], ['B/manga'], ['V/dupar'], ['Santa\\nMarta'], ['B/quilla'], ['Riohacha'], ['Cartagena'], ['Sincelejo'], ['Monteria'], ['Pasto'], ['Mocoa'], ['Neiva']], 9866)\n",
            "Chromosome:  [26, 12, 17, 13, 23, 2, 20, 22, 18, 1, 6, 19, 9, 4, 11, 15, 5, 14, 0, 10, 3, 7, 16, 25, 8, 21, 24]\n",
            "Solution: ([['Yopal'], ['Monteria'], ['Quibdo'], ['Neiva'], ['Villavo'], ['Bogota'], ['Santa\\nMarta'], ['V/dupar'], ['Riohacha'], ['B/quilla'], ['Cartagena'], ['Sincelejo'], ['Ibague'], ['B/ventura'], ['Medellin'], ['Pereira'], ['Cali'], ['Pasto'], ['Armenia'], ['Manizales'], ['B/manga'], ['Cucuta'], ['Popayan'], ['Mocoa'], ['Florencia'], ['Tunja'], ['Arauca']], 12894)\n",
            "Chromosome:  [18, 20, 1, 19, 12, 11, 6, 0, 15, 10, 26, 21, 9, 2, 17, 14, 4, 5, 3, 23, 8, 25, 16, 13, 24, 7, 22]\n",
            "Solution: ([['Riohacha'], ['Santa\\nMarta'], ['B/quilla'], ['Sincelejo'], ['Monteria'], ['Medellin'], ['Cartagena'], ['Armenia'], ['Pereira'], ['Manizales'], ['Yopal'], ['Tunja'], ['Ibague'], ['Bogota'], ['Quibdo'], ['Pasto'], ['B/ventura'], ['Cali'], ['B/manga'], ['Villavo'], ['Florencia'], ['Mocoa'], ['Popayan'], ['Neiva'], ['Arauca'], ['Cucuta'], ['V/dupar']], 11683)\n",
            "Chromosome:  [10, 23, 21, 26, 24, 7, 3, 12, 19, 6, 20, 18, 22, 1, 25, 16, 14, 0, 15, 4, 8, 13, 2, 17, 5, 9, 11]\n",
            "Solution: ([['Manizales'], ['Villavo'], ['Tunja'], ['Yopal'], ['Arauca'], ['Cucuta'], ['B/manga'], ['Monteria'], ['Sincelejo'], ['Cartagena'], ['Santa\\nMarta'], ['Riohacha'], ['V/dupar'], ['B/quilla'], ['Mocoa'], ['Popayan'], ['Pasto'], ['Armenia'], ['Pereira'], ['B/ventura'], ['Florencia'], ['Neiva'], ['Bogota'], ['Quibdo'], ['Cali'], ['Ibague'], ['Medellin']], 11055)\n",
            "Chromosome:  [19, 1, 18, 22, 20, 6, 11, 10, 3, 7, 24, 4, 21, 15, 26, 23, 8, 5, 14, 16, 13, 2, 17, 25, 9, 0, 12]\n",
            "Solution: ([['Sincelejo'], ['B/quilla'], ['Riohacha'], ['V/dupar'], ['Santa\\nMarta'], ['Cartagena'], ['Medellin'], ['Manizales'], ['B/manga'], ['Cucuta'], ['Arauca'], ['B/ventura'], ['Tunja'], ['Pereira'], ['Yopal'], ['Villavo'], ['Florencia'], ['Cali'], ['Pasto'], ['Popayan'], ['Neiva'], ['Bogota'], ['Quibdo'], ['Mocoa'], ['Ibague'], ['Armenia'], ['Monteria']], 12355)\n",
            "Chromosome:  [20, 7, 26, 23, 9, 10, 14, 25, 16, 0, 4, 15, 6, 1, 12, 13, 8, 24, 22, 3, 2, 21, 11, 17, 5, 19, 18]\n",
            "Solution: ([['Santa\\nMarta'], ['Cucuta'], ['Yopal'], ['Villavo'], ['Ibague'], ['Manizales'], ['Pasto'], ['Mocoa'], ['Popayan'], ['Armenia'], ['B/ventura'], ['Pereira'], ['Cartagena'], ['B/quilla'], ['Monteria'], ['Neiva'], ['Florencia'], ['Arauca'], ['V/dupar'], ['B/manga'], ['Bogota'], ['Tunja'], ['Medellin'], ['Quibdo'], ['Cali'], ['Sincelejo'], ['Riohacha']], 12782)\n",
            "Chromosome:  [26, 9, 0, 15, 4, 5, 11, 12, 1, 3, 18, 22, 20, 6, 19, 17, 10, 13, 16, 2, 23, 25, 14, 8, 7, 24, 21]\n",
            "Solution: ([['Yopal'], ['Ibague'], ['Armenia'], ['Pereira'], ['B/ventura'], ['Cali'], ['Medellin'], ['Monteria'], ['B/quilla'], ['B/manga'], ['Riohacha'], ['V/dupar'], ['Santa\\nMarta'], ['Cartagena'], ['Sincelejo'], ['Quibdo'], ['Manizales'], ['Neiva'], ['Popayan'], ['Bogota'], ['Villavo'], ['Mocoa'], ['Pasto'], ['Florencia'], ['Cucuta'], ['Arauca'], ['Tunja']], 10933)\n",
            "Chromosome:  [15, 18, 3, 24, 7, 22, 20, 1, 6, 12, 19, 2, 26, 17, 11, 25, 8, 13, 9, 21, 0, 4, 5, 16, 14, 10, 23]\n",
            "Solution: ([['Pereira'], ['Riohacha'], ['B/manga'], ['Arauca'], ['Cucuta'], ['V/dupar'], ['Santa\\nMarta'], ['B/quilla'], ['Cartagena'], ['Monteria'], ['Sincelejo'], ['Bogota'], ['Yopal'], ['Quibdo'], ['Medellin'], ['Mocoa'], ['Florencia'], ['Neiva'], ['Ibague'], ['Tunja'], ['Armenia'], ['B/ventura'], ['Cali'], ['Popayan'], ['Pasto'], ['Manizales'], ['Villavo']], 11137)\n",
            "Chromosome:  [6, 19, 17, 15, 13, 23, 21, 26, 9, 16, 5, 10, 11, 1, 20, 18, 22, 4, 0, 8, 14, 25, 2, 3, 24, 7, 12]\n",
            "Solution: ([['Cartagena'], ['Sincelejo'], ['Quibdo'], ['Pereira'], ['Neiva'], ['Villavo'], ['Tunja'], ['Yopal'], ['Ibague'], ['Popayan'], ['Cali'], ['Manizales'], ['Medellin'], ['B/quilla'], ['Santa\\nMarta'], ['Riohacha'], ['V/dupar'], ['B/ventura'], ['Armenia'], ['Florencia'], ['Pasto'], ['Mocoa'], ['Bogota'], ['B/manga'], ['Arauca'], ['Cucuta'], ['Monteria']], 11622)\n",
            "Chromosome:  [26, 0, 16, 4, 11, 17, 19, 18, 22, 12, 6, 1, 20, 2, 10, 9, 14, 25, 8, 13, 23, 15, 5, 3, 21, 7, 24]\n",
            "Solution: ([['Yopal'], ['Armenia'], ['Popayan'], ['B/ventura'], ['Medellin'], ['Quibdo'], ['Sincelejo'], ['Riohacha'], ['V/dupar'], ['Monteria'], ['Cartagena'], ['B/quilla'], ['Santa\\nMarta'], ['Bogota'], ['Manizales'], ['Ibague'], ['Pasto'], ['Mocoa'], ['Florencia'], ['Neiva'], ['Villavo'], ['Pereira'], ['Cali'], ['B/manga'], ['Tunja'], ['Cucuta'], ['Arauca']], 10957)\n",
            "\n",
            "Total time:  14.440935850143433  secs.\n",
            "\n"
          ],
          "name": "stdout"
        }
      ]
    }
  ]
}